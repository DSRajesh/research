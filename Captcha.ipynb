{
  "nbformat": 4,
  "nbformat_minor": 0,
  "metadata": {
    "colab": {
      "name": "Untitled11.ipynb",
      "provenance": [],
      "authorship_tag": "ABX9TyN79qTfk9otjVpsg4pz2V5W",
      "include_colab_link": true
    },
    "kernelspec": {
      "name": "python3",
      "display_name": "Python 3"
    }
  },
  "cells": [
    {
      "cell_type": "markdown",
      "metadata": {
        "id": "view-in-github",
        "colab_type": "text"
      },
      "source": [
        "<a href=\"https://colab.research.google.com/github/DSRajesh/research/blob/master/Captcha.ipynb\" target=\"_parent\"><img src=\"https://colab.research.google.com/assets/colab-badge.svg\" alt=\"Open In Colab\"/></a>"
      ]
    },
    {
      "cell_type": "code",
      "metadata": {
        "id": "0y5IrgAgupqZ",
        "colab_type": "code",
        "outputId": "2420e588-bc92-4526-ede3-537be1422012",
        "colab": {
          "base_uri": "https://localhost:8080/",
          "height": 185
        }
      },
      "source": [
        "import numpy as np\n",
        "import array\n",
        "# below statement to be executed only once\n",
        "#rng = np.random.RandomState(40)\n",
        "\n",
        "# list of 36 characters to generate captcha\n",
        "my_list = ['a','b','c','d','e', 'f','g','h','i','j','k','l','m','n','o','p','q','r','s','t','u','v','w','x','y','z','0','1','2','3','4','5','6','7','8','9']\n",
        "# produce a unique captcha by genearting random numbers in the range 0-36 using  \"randint\"  function \n",
        "list2 = [' ']\n",
        "for i in range(5):\n",
        "  list2.insert(i,my_list[rng.randint(36)])\n",
        "\n",
        "#convert list to string\n",
        "str1 = ''.join(list2)\n",
        "\n",
        "\n",
        "# create a new image area of size (30,100) with some background color (73, 109, 137) and then insert the captcha at (10,10) position in the image area\n",
        "from PIL import Image, ImageDraw\n",
        " \n",
        "img = Image.new('RGB', (100, 30), color = (73, 109, 137))\n",
        " \n",
        "d = ImageDraw.Draw(img)\n",
        "d.text((10,10), str1, fill=(255,255,0))\n",
        " \n",
        "img.save('pil_text.png')\n",
        "\n",
        "\n",
        "\n",
        "# compute the random deformation transform (using skimage.transform.AffineTransform/skimage.transform.warp and PiecewiseAffineTransform functions below) \n",
        "#needed to deform/noise  the captcha image\n",
        "from skimage.transform import PiecewiseAffineTransform\n",
        "import skimage.transform\n",
        "\n",
        "a=rng.randint(4)/10\n",
        "den=1.4\n",
        "den=den+a\n",
        "tran=-5\n",
        "b=rng.randint(10)\n",
        "tran=tran+b\n",
        "tform_augment = skimage.transform.AffineTransform(scale=(1. / den, 1. / den), rotation=np.deg2rad(+1),\n",
        "                                                      shear=np.deg2rad(2), translation=(tran,3))  # den and tran are random numbers generated to decide \n",
        "                                                                                                # the random deformation needed during each captcha generation\n",
        "imm=skimage.transform.warp(img,tform_augment)\n",
        "\n",
        "# applying gaussian noise with random sigma value each time\n",
        "row,col = imm.shape[:2]\n",
        "mean = 0\n",
        "# random sigma value\n",
        "c=rng.randint(10)/10000 \n",
        "var = 0.0005\n",
        "var=var+c\n",
        "sigma = var**0.5\n",
        "#gaussian kernel for noising the image\n",
        "gauss = rng.normal(mean,sigma,(row,col))\n",
        "gauss = gauss.reshape(row,col,1)\n",
        "imm = imm + gauss\n",
        "\n",
        "# modulate the captcha image to a  sinusoidal shape of randomly picked frequency\n",
        "rows, cols = imm.shape[0], imm.shape[1]\n",
        "src_cols = np.linspace(0, cols, 20)\n",
        "src_rows = np.linspace(0, rows, 10)\n",
        "#creating the grid of the same shape as catcha image in 'src'\n",
        "src_rows, src_cols = np.meshgrid(src_rows, src_cols)\n",
        "src = np.dstack([src_cols.flat, src_rows.flat])[0]\n",
        "fre=rng.randint(6)\n",
        "#creating the modulated grid of the same shape as catcha image in 'dst'\n",
        "dst_rows = src[:, 1] - np.sin(np.linspace(0, fre * np.pi, src.shape[0])) * 3\n",
        "dst_cols = src[:, 0]\n",
        "dst_rows *= 1.5\n",
        "dst_rows -= 1.5 * 3\n",
        "\n",
        "dst = np.vstack([dst_cols, dst_rows]).T\n",
        "\n",
        "\n",
        "tform = PiecewiseAffineTransform()\n",
        "#estimate a transform tform (from 'src' to 'dst') that can be used to  modulate the image to a  sinusoidal shape\n",
        "tform.estimate(src, dst)\n",
        "out_rows = imm.shape[0] \n",
        "out_cols = cols\n",
        "#warp the deformed/noised image to sinusoidal shape\n",
        "out = skimage.transform.warp(imm, tform, output_shape=(out_rows, out_cols))\n",
        "import matplotlib.pyplot as plt\n",
        "plt.imshow(out)\n",
        "\n",
        "  "
      ],
      "execution_count": 0,
      "outputs": [
        {
          "output_type": "stream",
          "text": [
            "Clipping input data to the valid range for imshow with RGB data ([0..1] for floats or [0..255] for integers).\n"
          ],
          "name": "stderr"
        },
        {
          "output_type": "execute_result",
          "data": {
            "text/plain": [
              "<matplotlib.image.AxesImage at 0x7f57d7c2e6d8>"
            ]
          },
          "metadata": {
            "tags": []
          },
          "execution_count": 34
        },
        {
          "output_type": "display_data",
          "data": {
            "image/png": "[encoded data removed]",
            "text/plain": [
              "<Figure size 432x288 with 1 Axes>"
            ]
          },
          "metadata": {
            "tags": []
          }
        }
      ]
    }
  ]
}